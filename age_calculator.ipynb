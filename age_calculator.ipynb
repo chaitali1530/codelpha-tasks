{
  "nbformat": 4,
  "nbformat_minor": 0,
  "metadata": {
    "colab": {
      "provenance": []
    },
    "kernelspec": {
      "name": "python3",
      "display_name": "Python 3"
    },
    "language_info": {
      "name": "python"
    }
  },
  "cells": [
    {
      "cell_type": "code",
      "execution_count": null,
      "metadata": {
        "colab": {
          "base_uri": "https://localhost:8080/",
          "height": 182
        },
        "id": "rhw6aOYooEdn",
        "outputId": "6334e6a3-b482-4f4c-cf5a-03cabe226574"
      },
      "outputs": [
        {
          "output_type": "display_data",
          "data": {
            "text/plain": [
              "<IPython.core.display.HTML object>"
            ],
            "text/html": [
              "<div id=\"ageApp\">\n",
              "  <h2>Age Calculator</h2>\n",
              "  \n",
              "  <label for=\"dob\">Select your Date of Birth:</label><br>\n",
              "  <input type=\"date\" id=\"dob\"><br><br>\n",
              "  <button id=\"calcBtn\">Calculate Age</button>\n",
              "\n",
              "  <div class=\"output\" id=\"result\" style=\"margin-top:20px; font-size:18px; font-weight:bold;\"></div>\n",
              "</div>\n",
              "\n",
              "<script>\n",
              "  document.getElementById(\"calcBtn\").onclick = function() {\n",
              "    const dobInput = document.getElementById(\"dob\").value;\n",
              "    \n",
              "    if (!dobInput) {\n",
              "      document.getElementById(\"result\").innerText = \"⚠️ Please select your date of birth.\";\n",
              "      return;\n",
              "    }\n",
              "\n",
              "    const dob = new Date(dobInput);\n",
              "    const today = new Date();\n",
              "\n",
              "    let years = today.getFullYear() - dob.getFullYear();\n",
              "    let months = today.getMonth() - dob.getMonth();\n",
              "    let days = today.getDate() - dob.getDate();\n",
              "\n",
              "    if (days < 0) {\n",
              "      months--;\n",
              "      const prevMonthDays = new Date(today.getFullYear(), today.getMonth(), 0).getDate();\n",
              "      days += prevMonthDays;\n",
              "    }\n",
              "\n",
              "    if (months < 0) {\n",
              "      years--;\n",
              "      months += 12;\n",
              "    }\n",
              "\n",
              "    document.getElementById(\"result\").innerText = `🎉 Your age is ${years} years, ${months} months, and ${days} days.`;\n",
              "  };\n",
              "</script>\n"
            ]
          },
          "metadata": {}
        }
      ],
      "source": [
        "%%html\n",
        "<div id=\"ageApp\">\n",
        "  <h2>Age Calculator</h2>\n",
        "\n",
        "  <label for=\"dob\">Select your Date of Birth:</label><br>\n",
        "  <input type=\"date\" id=\"dob\"><br><br>\n",
        "  <button id=\"calcBtn\">Calculate Age</button>\n",
        "\n",
        "  <div class=\"output\" id=\"result\" style=\"margin-top:20px; font-size:18px; font-weight:bold;\"></div>\n",
        "</div>\n",
        "\n",
        "<script>\n",
        "  document.getElementById(\"calcBtn\").onclick = function() {\n",
        "    const dobInput = document.getElementById(\"dob\").value;\n",
        "\n",
        "    if (!dobInput) {\n",
        "      document.getElementById(\"result\").innerText = \"⚠️ Please select your date of birth.\";\n",
        "      return;\n",
        "    }\n",
        "\n",
        "    const dob = new Date(dobInput);\n",
        "    const today = new Date();\n",
        "\n",
        "    let years = today.getFullYear() - dob.getFullYear();\n",
        "    let months = today.getMonth() - dob.getMonth();\n",
        "    let days = today.getDate() - dob.getDate();\n",
        "\n",
        "    if (days < 0) {\n",
        "      months--;\n",
        "      const prevMonthDays = new Date(today.getFullYear(), today.getMonth(), 0).getDate();\n",
        "      days += prevMonthDays;\n",
        "    }\n",
        "\n",
        "    if (months < 0) {\n",
        "      years--;\n",
        "      months += 12;\n",
        "    }\n",
        "\n",
        "    document.getElementById(\"result\").innerText = `🎉 Your age is ${years} years, ${months} months, and ${days} days.`;\n",
        "  };\n",
        "</script>\n"
      ]
    }
  ]
}